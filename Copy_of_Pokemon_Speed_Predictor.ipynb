{
 "cells": [
  {
   "cell_type": "markdown",
   "metadata": {
    "id": "vQ_VzE01N1KC"
   },
   "source": [
    "### 1. Load The Dataset"
   ]
  },
  {
   "cell_type": "code",
   "execution_count": null,
   "metadata": {
    "colab": {
     "base_uri": "https://localhost:8080/"
    },
    "id": "5fpoTMPyZbWb",
    "outputId": "242f7d2c-3e20-4f07-b170-7dfe0766d432"
   },
   "outputs": [
    {
     "name": "stdout",
     "output_type": "stream",
     "text": [
      "mkdir: cannot create directory ‘/root/.kaggle’: File exists\n",
      "Downloading pokemon.zip to /content\n",
      "  0% 0.00/14.9k [00:00<?, ?B/s]\n",
      "100% 14.9k/14.9k [00:00<00:00, 1.24MB/s]\n",
      "Archive:  pokemon.zip\n",
      "  inflating: Pokemon.csv             \n"
     ]
    }
   ],
   "source": [
    "!mkdir ~/.kaggle\n",
    "!cp kaggle.json ~/.kaggle/\n",
    "!chmod 600 ~/.kaggle/kaggle.json\n",
    "!kaggle datasets download -d abcsds/pokemon\n",
    "!unzip pokemon.zip"
   ]
  },
  {
   "cell_type": "code",
   "execution_count": 1,
   "metadata": {
    "colab": {
     "base_uri": "https://localhost:8080/",
     "height": 424
    },
    "id": "5ZBZL7cLZuDp",
    "outputId": "2fc003d9-1e21-4cf1-dd61-d7a46234ba8d"
   },
   "outputs": [
    {
     "data": {
      "text/html": [
       "<div>\n",
       "<style scoped>\n",
       "    .dataframe tbody tr th:only-of-type {\n",
       "        vertical-align: middle;\n",
       "    }\n",
       "\n",
       "    .dataframe tbody tr th {\n",
       "        vertical-align: top;\n",
       "    }\n",
       "\n",
       "    .dataframe thead th {\n",
       "        text-align: right;\n",
       "    }\n",
       "</style>\n",
       "<table border=\"1\" class=\"dataframe\">\n",
       "  <thead>\n",
       "    <tr style=\"text-align: right;\">\n",
       "      <th></th>\n",
       "      <th>#</th>\n",
       "      <th>Name</th>\n",
       "      <th>Type 1</th>\n",
       "      <th>Type 2</th>\n",
       "      <th>Total</th>\n",
       "      <th>HP</th>\n",
       "      <th>Attack</th>\n",
       "      <th>Defense</th>\n",
       "      <th>Sp. Atk</th>\n",
       "      <th>Sp. Def</th>\n",
       "      <th>Speed</th>\n",
       "      <th>Generation</th>\n",
       "      <th>Legendary</th>\n",
       "    </tr>\n",
       "  </thead>\n",
       "  <tbody>\n",
       "    <tr>\n",
       "      <th>0</th>\n",
       "      <td>1</td>\n",
       "      <td>Bulbasaur</td>\n",
       "      <td>Grass</td>\n",
       "      <td>Poison</td>\n",
       "      <td>318</td>\n",
       "      <td>45</td>\n",
       "      <td>49</td>\n",
       "      <td>49</td>\n",
       "      <td>65</td>\n",
       "      <td>65</td>\n",
       "      <td>45</td>\n",
       "      <td>1</td>\n",
       "      <td>False</td>\n",
       "    </tr>\n",
       "    <tr>\n",
       "      <th>1</th>\n",
       "      <td>2</td>\n",
       "      <td>Ivysaur</td>\n",
       "      <td>Grass</td>\n",
       "      <td>Poison</td>\n",
       "      <td>405</td>\n",
       "      <td>60</td>\n",
       "      <td>62</td>\n",
       "      <td>63</td>\n",
       "      <td>80</td>\n",
       "      <td>80</td>\n",
       "      <td>60</td>\n",
       "      <td>1</td>\n",
       "      <td>False</td>\n",
       "    </tr>\n",
       "    <tr>\n",
       "      <th>2</th>\n",
       "      <td>3</td>\n",
       "      <td>Venusaur</td>\n",
       "      <td>Grass</td>\n",
       "      <td>Poison</td>\n",
       "      <td>525</td>\n",
       "      <td>80</td>\n",
       "      <td>82</td>\n",
       "      <td>83</td>\n",
       "      <td>100</td>\n",
       "      <td>100</td>\n",
       "      <td>80</td>\n",
       "      <td>1</td>\n",
       "      <td>False</td>\n",
       "    </tr>\n",
       "    <tr>\n",
       "      <th>3</th>\n",
       "      <td>3</td>\n",
       "      <td>VenusaurMega Venusaur</td>\n",
       "      <td>Grass</td>\n",
       "      <td>Poison</td>\n",
       "      <td>625</td>\n",
       "      <td>80</td>\n",
       "      <td>100</td>\n",
       "      <td>123</td>\n",
       "      <td>122</td>\n",
       "      <td>120</td>\n",
       "      <td>80</td>\n",
       "      <td>1</td>\n",
       "      <td>False</td>\n",
       "    </tr>\n",
       "    <tr>\n",
       "      <th>4</th>\n",
       "      <td>4</td>\n",
       "      <td>Charmander</td>\n",
       "      <td>Fire</td>\n",
       "      <td>NaN</td>\n",
       "      <td>309</td>\n",
       "      <td>39</td>\n",
       "      <td>52</td>\n",
       "      <td>43</td>\n",
       "      <td>60</td>\n",
       "      <td>50</td>\n",
       "      <td>65</td>\n",
       "      <td>1</td>\n",
       "      <td>False</td>\n",
       "    </tr>\n",
       "    <tr>\n",
       "      <th>...</th>\n",
       "      <td>...</td>\n",
       "      <td>...</td>\n",
       "      <td>...</td>\n",
       "      <td>...</td>\n",
       "      <td>...</td>\n",
       "      <td>...</td>\n",
       "      <td>...</td>\n",
       "      <td>...</td>\n",
       "      <td>...</td>\n",
       "      <td>...</td>\n",
       "      <td>...</td>\n",
       "      <td>...</td>\n",
       "      <td>...</td>\n",
       "    </tr>\n",
       "    <tr>\n",
       "      <th>795</th>\n",
       "      <td>719</td>\n",
       "      <td>Diancie</td>\n",
       "      <td>Rock</td>\n",
       "      <td>Fairy</td>\n",
       "      <td>600</td>\n",
       "      <td>50</td>\n",
       "      <td>100</td>\n",
       "      <td>150</td>\n",
       "      <td>100</td>\n",
       "      <td>150</td>\n",
       "      <td>50</td>\n",
       "      <td>6</td>\n",
       "      <td>True</td>\n",
       "    </tr>\n",
       "    <tr>\n",
       "      <th>796</th>\n",
       "      <td>719</td>\n",
       "      <td>DiancieMega Diancie</td>\n",
       "      <td>Rock</td>\n",
       "      <td>Fairy</td>\n",
       "      <td>700</td>\n",
       "      <td>50</td>\n",
       "      <td>160</td>\n",
       "      <td>110</td>\n",
       "      <td>160</td>\n",
       "      <td>110</td>\n",
       "      <td>110</td>\n",
       "      <td>6</td>\n",
       "      <td>True</td>\n",
       "    </tr>\n",
       "    <tr>\n",
       "      <th>797</th>\n",
       "      <td>720</td>\n",
       "      <td>HoopaHoopa Confined</td>\n",
       "      <td>Psychic</td>\n",
       "      <td>Ghost</td>\n",
       "      <td>600</td>\n",
       "      <td>80</td>\n",
       "      <td>110</td>\n",
       "      <td>60</td>\n",
       "      <td>150</td>\n",
       "      <td>130</td>\n",
       "      <td>70</td>\n",
       "      <td>6</td>\n",
       "      <td>True</td>\n",
       "    </tr>\n",
       "    <tr>\n",
       "      <th>798</th>\n",
       "      <td>720</td>\n",
       "      <td>HoopaHoopa Unbound</td>\n",
       "      <td>Psychic</td>\n",
       "      <td>Dark</td>\n",
       "      <td>680</td>\n",
       "      <td>80</td>\n",
       "      <td>160</td>\n",
       "      <td>60</td>\n",
       "      <td>170</td>\n",
       "      <td>130</td>\n",
       "      <td>80</td>\n",
       "      <td>6</td>\n",
       "      <td>True</td>\n",
       "    </tr>\n",
       "    <tr>\n",
       "      <th>799</th>\n",
       "      <td>721</td>\n",
       "      <td>Volcanion</td>\n",
       "      <td>Fire</td>\n",
       "      <td>Water</td>\n",
       "      <td>600</td>\n",
       "      <td>80</td>\n",
       "      <td>110</td>\n",
       "      <td>120</td>\n",
       "      <td>130</td>\n",
       "      <td>90</td>\n",
       "      <td>70</td>\n",
       "      <td>6</td>\n",
       "      <td>True</td>\n",
       "    </tr>\n",
       "  </tbody>\n",
       "</table>\n",
       "<p>800 rows × 13 columns</p>\n",
       "</div>"
      ],
      "text/plain": [
       "       #                   Name   Type 1  Type 2  Total  HP  Attack  Defense  \\\n",
       "0      1              Bulbasaur    Grass  Poison    318  45      49       49   \n",
       "1      2                Ivysaur    Grass  Poison    405  60      62       63   \n",
       "2      3               Venusaur    Grass  Poison    525  80      82       83   \n",
       "3      3  VenusaurMega Venusaur    Grass  Poison    625  80     100      123   \n",
       "4      4             Charmander     Fire     NaN    309  39      52       43   \n",
       "..   ...                    ...      ...     ...    ...  ..     ...      ...   \n",
       "795  719                Diancie     Rock   Fairy    600  50     100      150   \n",
       "796  719    DiancieMega Diancie     Rock   Fairy    700  50     160      110   \n",
       "797  720    HoopaHoopa Confined  Psychic   Ghost    600  80     110       60   \n",
       "798  720     HoopaHoopa Unbound  Psychic    Dark    680  80     160       60   \n",
       "799  721              Volcanion     Fire   Water    600  80     110      120   \n",
       "\n",
       "     Sp. Atk  Sp. Def  Speed  Generation  Legendary  \n",
       "0         65       65     45           1      False  \n",
       "1         80       80     60           1      False  \n",
       "2        100      100     80           1      False  \n",
       "3        122      120     80           1      False  \n",
       "4         60       50     65           1      False  \n",
       "..       ...      ...    ...         ...        ...  \n",
       "795      100      150     50           6       True  \n",
       "796      160      110    110           6       True  \n",
       "797      150      130     70           6       True  \n",
       "798      170      130     80           6       True  \n",
       "799      130       90     70           6       True  \n",
       "\n",
       "[800 rows x 13 columns]"
      ]
     },
     "execution_count": 1,
     "metadata": {},
     "output_type": "execute_result"
    }
   ],
   "source": [
    "import pandas as pd\n",
    "\n",
    "original_df = pd.read_csv('Pokemon.csv')\n",
    "\n",
    "original_df"
   ]
  },
  {
   "cell_type": "markdown",
   "metadata": {
    "id": "xIAYq0iFON0K"
   },
   "source": [
    "### 2. Select Features"
   ]
  },
  {
   "cell_type": "code",
   "execution_count": 2,
   "metadata": {
    "colab": {
     "base_uri": "https://localhost:8080/",
     "height": 206
    },
    "id": "ruhoz0YAaBJD",
    "outputId": "6538cda7-8445-438e-94e8-c07d0be7ee3c"
   },
   "outputs": [
    {
     "data": {
      "text/html": [
       "<div>\n",
       "<style scoped>\n",
       "    .dataframe tbody tr th:only-of-type {\n",
       "        vertical-align: middle;\n",
       "    }\n",
       "\n",
       "    .dataframe tbody tr th {\n",
       "        vertical-align: top;\n",
       "    }\n",
       "\n",
       "    .dataframe thead th {\n",
       "        text-align: right;\n",
       "    }\n",
       "</style>\n",
       "<table border=\"1\" class=\"dataframe\">\n",
       "  <thead>\n",
       "    <tr style=\"text-align: right;\">\n",
       "      <th></th>\n",
       "      <th>HP</th>\n",
       "      <th>Attack</th>\n",
       "      <th>Defense</th>\n",
       "      <th>Sp. Atk</th>\n",
       "      <th>Sp. Def</th>\n",
       "      <th>Speed</th>\n",
       "    </tr>\n",
       "  </thead>\n",
       "  <tbody>\n",
       "    <tr>\n",
       "      <th>0</th>\n",
       "      <td>45</td>\n",
       "      <td>49</td>\n",
       "      <td>49</td>\n",
       "      <td>65</td>\n",
       "      <td>65</td>\n",
       "      <td>45</td>\n",
       "    </tr>\n",
       "    <tr>\n",
       "      <th>1</th>\n",
       "      <td>60</td>\n",
       "      <td>62</td>\n",
       "      <td>63</td>\n",
       "      <td>80</td>\n",
       "      <td>80</td>\n",
       "      <td>60</td>\n",
       "    </tr>\n",
       "    <tr>\n",
       "      <th>2</th>\n",
       "      <td>80</td>\n",
       "      <td>82</td>\n",
       "      <td>83</td>\n",
       "      <td>100</td>\n",
       "      <td>100</td>\n",
       "      <td>80</td>\n",
       "    </tr>\n",
       "    <tr>\n",
       "      <th>3</th>\n",
       "      <td>80</td>\n",
       "      <td>100</td>\n",
       "      <td>123</td>\n",
       "      <td>122</td>\n",
       "      <td>120</td>\n",
       "      <td>80</td>\n",
       "    </tr>\n",
       "    <tr>\n",
       "      <th>4</th>\n",
       "      <td>39</td>\n",
       "      <td>52</td>\n",
       "      <td>43</td>\n",
       "      <td>60</td>\n",
       "      <td>50</td>\n",
       "      <td>65</td>\n",
       "    </tr>\n",
       "  </tbody>\n",
       "</table>\n",
       "</div>"
      ],
      "text/plain": [
       "   HP  Attack  Defense  Sp. Atk  Sp. Def  Speed\n",
       "0  45      49       49       65       65     45\n",
       "1  60      62       63       80       80     60\n",
       "2  80      82       83      100      100     80\n",
       "3  80     100      123      122      120     80\n",
       "4  39      52       43       60       50     65"
      ]
     },
     "execution_count": 2,
     "metadata": {},
     "output_type": "execute_result"
    }
   ],
   "source": [
    "modified_df = original_df[['HP', 'Attack', 'Defense',\n",
    "                           'Sp. Atk', 'Sp. Def', 'Speed']]\n",
    "\n",
    "modified_df.head()"
   ]
  },
  {
   "cell_type": "markdown",
   "metadata": {
    "id": "GiHcg7t1OhY-"
   },
   "source": [
    "### 3. Split into 3 Partitions: Train, Val & Test "
   ]
  },
  {
   "cell_type": "code",
   "execution_count": 3,
   "metadata": {
    "colab": {
     "base_uri": "https://localhost:8080/",
     "height": 206
    },
    "id": "uzi1HTRvaVxH",
    "outputId": "0776bc42-9d59-4e3d-d7d9-1baf1a4457df"
   },
   "outputs": [
    {
     "data": {
      "text/html": [
       "<div>\n",
       "<style scoped>\n",
       "    .dataframe tbody tr th:only-of-type {\n",
       "        vertical-align: middle;\n",
       "    }\n",
       "\n",
       "    .dataframe tbody tr th {\n",
       "        vertical-align: top;\n",
       "    }\n",
       "\n",
       "    .dataframe thead th {\n",
       "        text-align: right;\n",
       "    }\n",
       "</style>\n",
       "<table border=\"1\" class=\"dataframe\">\n",
       "  <thead>\n",
       "    <tr style=\"text-align: right;\">\n",
       "      <th></th>\n",
       "      <th>HP</th>\n",
       "      <th>Attack</th>\n",
       "      <th>Defense</th>\n",
       "      <th>Sp. Atk</th>\n",
       "      <th>Sp. Def</th>\n",
       "      <th>Speed</th>\n",
       "    </tr>\n",
       "  </thead>\n",
       "  <tbody>\n",
       "    <tr>\n",
       "      <th>690</th>\n",
       "      <td>70</td>\n",
       "      <td>55</td>\n",
       "      <td>75</td>\n",
       "      <td>45</td>\n",
       "      <td>65</td>\n",
       "      <td>60</td>\n",
       "    </tr>\n",
       "    <tr>\n",
       "      <th>410</th>\n",
       "      <td>40</td>\n",
       "      <td>55</td>\n",
       "      <td>80</td>\n",
       "      <td>35</td>\n",
       "      <td>60</td>\n",
       "      <td>30</td>\n",
       "    </tr>\n",
       "    <tr>\n",
       "      <th>713</th>\n",
       "      <td>91</td>\n",
       "      <td>72</td>\n",
       "      <td>90</td>\n",
       "      <td>129</td>\n",
       "      <td>90</td>\n",
       "      <td>108</td>\n",
       "    </tr>\n",
       "    <tr>\n",
       "      <th>640</th>\n",
       "      <td>110</td>\n",
       "      <td>65</td>\n",
       "      <td>75</td>\n",
       "      <td>125</td>\n",
       "      <td>85</td>\n",
       "      <td>30</td>\n",
       "    </tr>\n",
       "    <tr>\n",
       "      <th>107</th>\n",
       "      <td>55</td>\n",
       "      <td>130</td>\n",
       "      <td>115</td>\n",
       "      <td>50</td>\n",
       "      <td>50</td>\n",
       "      <td>75</td>\n",
       "    </tr>\n",
       "  </tbody>\n",
       "</table>\n",
       "</div>"
      ],
      "text/plain": [
       "      HP  Attack  Defense  Sp. Atk  Sp. Def  Speed\n",
       "690   70      55       75       45       65     60\n",
       "410   40      55       80       35       60     30\n",
       "713   91      72       90      129       90    108\n",
       "640  110      65       75      125       85     30\n",
       "107   55     130      115       50       50     75"
      ]
     },
     "execution_count": 3,
     "metadata": {},
     "output_type": "execute_result"
    }
   ],
   "source": [
    "shuffled_df = modified_df.sample(frac=1)\n",
    "\n",
    "shuffled_df.head()"
   ]
  },
  {
   "cell_type": "code",
   "execution_count": 4,
   "metadata": {
    "colab": {
     "base_uri": "https://localhost:8080/"
    },
    "id": "poTHVv4_aiN6",
    "outputId": "c156a653-c26e-454d-aa92-95f13030443d"
   },
   "outputs": [
    {
     "data": {
      "text/plain": [
       "(500, 150, 150)"
      ]
     },
     "execution_count": 4,
     "metadata": {},
     "output_type": "execute_result"
    }
   ],
   "source": [
    "train_df = shuffled_df[:500]\n",
    "val_df = shuffled_df[500:650]\n",
    "test_df = shuffled_df[650:]\n",
    "\n",
    "len(train_df), len(val_df), len(test_df)"
   ]
  },
  {
   "cell_type": "code",
   "execution_count": 5,
   "metadata": {
    "colab": {
     "base_uri": "https://localhost:8080/"
    },
    "id": "miWKMvN1bAG7",
    "outputId": "1236c81e-3dae-4dd0-c103-fca588a0e467"
   },
   "outputs": [
    {
     "data": {
      "text/plain": [
       "(((500, 5), (500,)), ((150, 5), (150,)), ((150, 5), (150,)))"
      ]
     },
     "execution_count": 5,
     "metadata": {},
     "output_type": "execute_result"
    }
   ],
   "source": [
    "X_train, y_train = train_df.to_numpy()[:, :-1], train_df.to_numpy()[:, -1]\n",
    "X_val, y_val = val_df.to_numpy()[:, :-1], val_df.to_numpy()[:, -1]\n",
    "X_test, y_test = test_df.to_numpy()[:, :-1], test_df.to_numpy()[:, -1]\n",
    "\n",
    "(X_train.shape, y_train.shape), (X_val.shape, y_val.shape), (X_test.shape, y_test.shape)"
   ]
  },
  {
   "cell_type": "markdown",
   "metadata": {
    "id": "RuYL5NNOQdMQ"
   },
   "source": [
    "### 4. Preprocess The Inputs"
   ]
  },
  {
   "cell_type": "code",
   "execution_count": 6,
   "metadata": {
    "colab": {
     "base_uri": "https://localhost:8080/",
     "height": 402
    },
    "id": "l0qtWlP2b9mc",
    "outputId": "6a6b7a96-b830-4efe-a1dd-3e966f583de9"
   },
   "outputs": [
    {
     "data": {
      "text/plain": [
       "array([[<AxesSubplot:title={'center':'0'}>,\n",
       "        <AxesSubplot:title={'center':'1'}>],\n",
       "       [<AxesSubplot:title={'center':'2'}>,\n",
       "        <AxesSubplot:title={'center':'3'}>],\n",
       "       [<AxesSubplot:title={'center':'4'}>, <AxesSubplot:>]], dtype=object)"
      ]
     },
     "execution_count": 6,
     "metadata": {},
     "output_type": "execute_result"
    },
    {
     "data": {
      "image/png": "[encoded data removed]",
      "text/plain": [
       "<Figure size 432x288 with 6 Axes>"
      ]
     },
     "metadata": {
      "needs_background": "light"
     },
     "output_type": "display_data"
    }
   ],
   "source": [
    "from sklearn.preprocessing import MinMaxScaler\n",
    "\n",
    "scaler = MinMaxScaler().fit(X_train)\n",
    "\n",
    "X_train_scaled, X_val_scaled, X_test_scaled = scaler.transform(X_train), scaler.transform(X_val), scaler.transform(X_test)\n",
    "\n",
    "pd.DataFrame(X_train_scaled).hist()"
   ]
  },
  {
   "cell_type": "markdown",
   "metadata": {
    "id": "BbmhAbllQ7Bh"
   },
   "source": [
    "### 5. Pick The Best Model w/ Lowest Validation Error"
   ]
  },
  {
   "cell_type": "code",
   "execution_count": 7,
   "metadata": {
    "colab": {
     "base_uri": "https://localhost:8080/"
    },
    "id": "U2XWZI69cloT",
    "outputId": "48b4ca6e-8671-4ce8-ff27-8fbcf24ed4e8"
   },
   "outputs": [
    {
     "data": {
      "text/plain": [
       "22.075359999999996"
      ]
     },
     "execution_count": 7,
     "metadata": {},
     "output_type": "execute_result"
    }
   ],
   "source": [
    "from sklearn.metrics import mean_absolute_error\n",
    "\n",
    "average_speed = y_train.mean()\n",
    "\n",
    "mean_absolute_error(y_val, [average_speed]*len(y_val))"
   ]
  },
  {
   "cell_type": "code",
   "execution_count": 8,
   "metadata": {
    "colab": {
     "base_uri": "https://localhost:8080/"
    },
    "id": "OKD5_yRGddu4",
    "outputId": "47100ec4-4ef7-4dbd-9836-10720035686d"
   },
   "outputs": [
    {
     "data": {
      "text/plain": [
       "18.075402268899815"
      ]
     },
     "execution_count": 8,
     "metadata": {},
     "output_type": "execute_result"
    }
   ],
   "source": [
    "from sklearn.linear_model import LinearRegression\n",
    "\n",
    "linear_model = LinearRegression().fit(X_train, y_train)\n",
    "\n",
    "mean_absolute_error(y_val, linear_model.predict(X_val))"
   ]
  },
  {
   "cell_type": "code",
   "execution_count": 9,
   "metadata": {
    "colab": {
     "base_uri": "https://localhost:8080/"
    },
    "id": "h-HYmzh1eKFs",
    "outputId": "3e2eb819-fbfd-42f3-a2fb-62dc02bff75d"
   },
   "outputs": [
    {
     "data": {
      "text/plain": [
       "18.88553333333333"
      ]
     },
     "execution_count": 9,
     "metadata": {},
     "output_type": "execute_result"
    }
   ],
   "source": [
    "from sklearn.ensemble import RandomForestRegressor\n",
    "\n",
    "random_forest = RandomForestRegressor().fit(X_train, y_train)\n",
    "\n",
    "mean_absolute_error(y_val, random_forest.predict(X_val))"
   ]
  },
  {
   "cell_type": "code",
   "execution_count": 10,
   "metadata": {
    "colab": {
     "base_uri": "https://localhost:8080/"
    },
    "id": "k8t8juMTefd-",
    "outputId": "602aa766-0b25-4e1e-8f6d-c06cacc715a2"
   },
   "outputs": [
    {
     "name": "stdout",
     "output_type": "stream",
     "text": [
      "WARNING:tensorflow:Please add `keras.layers.InputLayer` instead of `keras.Input` to Sequential model. `keras.Input` is intended to be used by Functional model.\n",
      "Epoch 1/100\n",
      "16/16 [==============================] - 2s 18ms/step - loss: 27069.9316 - mean_absolute_error: 156.6636 - val_loss: 15893.0820 - val_mean_absolute_error: 120.1641\n",
      "Epoch 2/100\n",
      "16/16 [==============================] - 0s 3ms/step - loss: 11746.8350 - mean_absolute_error: 101.3625 - val_loss: 6075.7690 - val_mean_absolute_error: 71.6315\n",
      "Epoch 3/100\n",
      "16/16 [==============================] - 0s 3ms/step - loss: 4370.8398 - mean_absolute_error: 56.6877 - val_loss: 2051.1453 - val_mean_absolute_error: 37.6198\n",
      "Epoch 4/100\n",
      "16/16 [==============================] - 0s 3ms/step - loss: 1676.0858 - mean_absolute_error: 32.6164 - val_loss: 1090.1893 - val_mean_absolute_error: 26.1791\n",
      "Epoch 5/100\n",
      "16/16 [==============================] - 0s 3ms/step - loss: 1106.3191 - mean_absolute_error: 26.0489 - val_loss: 988.3943 - val_mean_absolute_error: 25.0799\n",
      "Epoch 6/100\n",
      "16/16 [==============================] - 0s 3ms/step - loss: 1062.3530 - mean_absolute_error: 25.4218 - val_loss: 988.6949 - val_mean_absolute_error: 25.0632\n",
      "Epoch 7/100\n",
      "16/16 [==============================] - 0s 3ms/step - loss: 1045.9222 - mean_absolute_error: 25.2695 - val_loss: 975.4814 - val_mean_absolute_error: 24.9022\n",
      "Epoch 8/100\n",
      "16/16 [==============================] - 0s 3ms/step - loss: 1030.8579 - mean_absolute_error: 25.1078 - val_loss: 962.9984 - val_mean_absolute_error: 24.7420\n",
      "Epoch 9/100\n",
      "16/16 [==============================] - 0s 3ms/step - loss: 1017.0733 - mean_absolute_error: 24.9484 - val_loss: 951.9459 - val_mean_absolute_error: 24.5990\n",
      "Epoch 10/100\n",
      "16/16 [==============================] - 0s 3ms/step - loss: 1004.1430 - mean_absolute_error: 24.8194 - val_loss: 940.1215 - val_mean_absolute_error: 24.4553\n",
      "Epoch 11/100\n",
      "16/16 [==============================] - 0s 3ms/step - loss: 990.5032 - mean_absolute_error: 24.6651 - val_loss: 930.0303 - val_mean_absolute_error: 24.3157\n",
      "Epoch 12/100\n",
      "16/16 [==============================] - 0s 3ms/step - loss: 980.4302 - mean_absolute_error: 24.5232 - val_loss: 921.0252 - val_mean_absolute_error: 24.1763\n",
      "Epoch 13/100\n",
      "16/16 [==============================] - 0s 3ms/step - loss: 965.6595 - mean_absolute_error: 24.3930 - val_loss: 907.7473 - val_mean_absolute_error: 24.0087\n",
      "Epoch 14/100\n",
      "16/16 [==============================] - 0s 3ms/step - loss: 950.6276 - mean_absolute_error: 24.2122 - val_loss: 897.9303 - val_mean_absolute_error: 23.8646\n",
      "Epoch 15/100\n",
      "16/16 [==============================] - 0s 3ms/step - loss: 940.0853 - mean_absolute_error: 24.1064 - val_loss: 886.9312 - val_mean_absolute_error: 23.7165\n",
      "Epoch 16/100\n",
      "16/16 [==============================] - 0s 3ms/step - loss: 926.8507 - mean_absolute_error: 23.9342 - val_loss: 879.6160 - val_mean_absolute_error: 23.5712\n",
      "Epoch 17/100\n",
      "16/16 [==============================] - 0s 3ms/step - loss: 913.1193 - mean_absolute_error: 23.7500 - val_loss: 867.0037 - val_mean_absolute_error: 23.4066\n",
      "Epoch 18/100\n",
      "16/16 [==============================] - 0s 3ms/step - loss: 901.8002 - mean_absolute_error: 23.6410 - val_loss: 856.9523 - val_mean_absolute_error: 23.2558\n",
      "Epoch 19/100\n",
      "16/16 [==============================] - 0s 3ms/step - loss: 890.3953 - mean_absolute_error: 23.4699 - val_loss: 848.8890 - val_mean_absolute_error: 23.0969\n",
      "Epoch 20/100\n",
      "16/16 [==============================] - 0s 3ms/step - loss: 876.7723 - mean_absolute_error: 23.3106 - val_loss: 839.0143 - val_mean_absolute_error: 22.9491\n",
      "Epoch 21/100\n",
      "16/16 [==============================] - 0s 3ms/step - loss: 870.4360 - mean_absolute_error: 23.2442 - val_loss: 829.6181 - val_mean_absolute_error: 22.8157\n",
      "Epoch 22/100\n",
      "16/16 [==============================] - 0s 3ms/step - loss: 857.8700 - mean_absolute_error: 23.0443 - val_loss: 822.3423 - val_mean_absolute_error: 22.6343\n",
      "Epoch 23/100\n",
      "16/16 [==============================] - 0s 3ms/step - loss: 846.6375 - mean_absolute_error: 22.9169 - val_loss: 812.6452 - val_mean_absolute_error: 22.5076\n",
      "Epoch 24/100\n",
      "16/16 [==============================] - 0s 3ms/step - loss: 835.6027 - mean_absolute_error: 22.7757 - val_loss: 804.8353 - val_mean_absolute_error: 22.3550\n",
      "Epoch 25/100\n",
      "16/16 [==============================] - 0s 3ms/step - loss: 827.2319 - mean_absolute_error: 22.6469 - val_loss: 797.3458 - val_mean_absolute_error: 22.2247\n",
      "Epoch 26/100\n",
      "16/16 [==============================] - 0s 3ms/step - loss: 818.7259 - mean_absolute_error: 22.5429 - val_loss: 790.2542 - val_mean_absolute_error: 22.0941\n",
      "Epoch 27/100\n",
      "16/16 [==============================] - 0s 3ms/step - loss: 808.3055 - mean_absolute_error: 22.4140 - val_loss: 783.5201 - val_mean_absolute_error: 22.0242\n",
      "Epoch 28/100\n",
      "16/16 [==============================] - 0s 3ms/step - loss: 802.0308 - mean_absolute_error: 22.3243 - val_loss: 776.6857 - val_mean_absolute_error: 21.9115\n",
      "Epoch 29/100\n",
      "16/16 [==============================] - 0s 3ms/step - loss: 795.3874 - mean_absolute_error: 22.2129 - val_loss: 770.2277 - val_mean_absolute_error: 21.7707\n",
      "Epoch 30/100\n",
      "16/16 [==============================] - 0s 3ms/step - loss: 786.8704 - mean_absolute_error: 22.0906 - val_loss: 764.3041 - val_mean_absolute_error: 21.7235\n",
      "Epoch 31/100\n",
      "16/16 [==============================] - 0s 3ms/step - loss: 782.4041 - mean_absolute_error: 22.0206 - val_loss: 758.2026 - val_mean_absolute_error: 21.5976\n",
      "Epoch 32/100\n",
      "16/16 [==============================] - 0s 3ms/step - loss: 774.9446 - mean_absolute_error: 21.9213 - val_loss: 754.1876 - val_mean_absolute_error: 21.5941\n",
      "Epoch 33/100\n",
      "16/16 [==============================] - 0s 3ms/step - loss: 767.4989 - mean_absolute_error: 21.7856 - val_loss: 747.4442 - val_mean_absolute_error: 21.4249\n",
      "Epoch 34/100\n",
      "16/16 [==============================] - 0s 3ms/step - loss: 762.3597 - mean_absolute_error: 21.7379 - val_loss: 743.4253 - val_mean_absolute_error: 21.3978\n",
      "Epoch 35/100\n",
      "16/16 [==============================] - 0s 3ms/step - loss: 757.5451 - mean_absolute_error: 21.6548 - val_loss: 738.9348 - val_mean_absolute_error: 21.3422\n",
      "Epoch 36/100\n",
      "16/16 [==============================] - 0s 3ms/step - loss: 751.4946 - mean_absolute_error: 21.5553 - val_loss: 733.7458 - val_mean_absolute_error: 21.1983\n",
      "Epoch 37/100\n",
      "16/16 [==============================] - 0s 3ms/step - loss: 746.6293 - mean_absolute_error: 21.4903 - val_loss: 729.9658 - val_mean_absolute_error: 21.1479\n",
      "Epoch 38/100\n",
      "16/16 [==============================] - 0s 3ms/step - loss: 743.2052 - mean_absolute_error: 21.4492 - val_loss: 726.1946 - val_mean_absolute_error: 21.0965\n",
      "Epoch 39/100\n",
      "16/16 [==============================] - 0s 3ms/step - loss: 739.7484 - mean_absolute_error: 21.3974 - val_loss: 723.2214 - val_mean_absolute_error: 21.0566\n",
      "Epoch 40/100\n",
      "16/16 [==============================] - 0s 3ms/step - loss: 734.5460 - mean_absolute_error: 21.3383 - val_loss: 719.1367 - val_mean_absolute_error: 20.9720\n",
      "Epoch 41/100\n",
      "16/16 [==============================] - 0s 3ms/step - loss: 732.3386 - mean_absolute_error: 21.3259 - val_loss: 716.2106 - val_mean_absolute_error: 20.9338\n",
      "Epoch 42/100\n",
      "16/16 [==============================] - 0s 3ms/step - loss: 727.9571 - mean_absolute_error: 21.2556 - val_loss: 712.4190 - val_mean_absolute_error: 20.8552\n",
      "Epoch 43/100\n",
      "16/16 [==============================] - 0s 3ms/step - loss: 724.0134 - mean_absolute_error: 21.2038 - val_loss: 710.3492 - val_mean_absolute_error: 20.8296\n",
      "Epoch 44/100\n",
      "16/16 [==============================] - 0s 3ms/step - loss: 721.9269 - mean_absolute_error: 21.1890 - val_loss: 708.0627 - val_mean_absolute_error: 20.7890\n",
      "Epoch 45/100\n",
      "16/16 [==============================] - 0s 3ms/step - loss: 718.8815 - mean_absolute_error: 21.1434 - val_loss: 705.4833 - val_mean_absolute_error: 20.7393\n",
      "Epoch 46/100\n",
      "16/16 [==============================] - 0s 3ms/step - loss: 715.9230 - mean_absolute_error: 21.0964 - val_loss: 702.5738 - val_mean_absolute_error: 20.6731\n",
      "Epoch 47/100\n",
      "16/16 [==============================] - 0s 3ms/step - loss: 717.4965 - mean_absolute_error: 21.1272 - val_loss: 699.3411 - val_mean_absolute_error: 20.6044\n",
      "Epoch 48/100\n"
     ]
    },
    {
     "name": "stdout",
     "output_type": "stream",
     "text": [
      "16/16 [==============================] - 0s 3ms/step - loss: 711.2498 - mean_absolute_error: 21.0428 - val_loss: 697.5557 - val_mean_absolute_error: 20.5671\n",
      "Epoch 49/100\n",
      "16/16 [==============================] - 0s 3ms/step - loss: 710.3077 - mean_absolute_error: 21.0348 - val_loss: 696.7634 - val_mean_absolute_error: 20.5530\n",
      "Epoch 50/100\n",
      "16/16 [==============================] - 0s 3ms/step - loss: 709.0082 - mean_absolute_error: 20.9967 - val_loss: 691.9436 - val_mean_absolute_error: 20.4386\n",
      "Epoch 51/100\n",
      "16/16 [==============================] - 0s 3ms/step - loss: 704.7158 - mean_absolute_error: 20.9686 - val_loss: 692.5601 - val_mean_absolute_error: 20.4559\n",
      "Epoch 52/100\n",
      "16/16 [==============================] - 0s 3ms/step - loss: 703.5857 - mean_absolute_error: 20.9397 - val_loss: 690.0779 - val_mean_absolute_error: 20.4012\n",
      "Epoch 53/100\n",
      "16/16 [==============================] - 0s 3ms/step - loss: 701.7272 - mean_absolute_error: 20.9160 - val_loss: 688.1332 - val_mean_absolute_error: 20.3668\n",
      "Epoch 54/100\n",
      "16/16 [==============================] - 0s 3ms/step - loss: 701.3387 - mean_absolute_error: 20.9011 - val_loss: 687.3799 - val_mean_absolute_error: 20.3462\n",
      "Epoch 55/100\n",
      "16/16 [==============================] - 0s 3ms/step - loss: 699.9244 - mean_absolute_error: 20.8925 - val_loss: 684.0157 - val_mean_absolute_error: 20.2720\n",
      "Epoch 56/100\n",
      "16/16 [==============================] - 0s 3ms/step - loss: 700.0077 - mean_absolute_error: 20.8574 - val_loss: 685.7562 - val_mean_absolute_error: 20.3144\n",
      "Epoch 57/100\n",
      "16/16 [==============================] - 0s 3ms/step - loss: 696.8074 - mean_absolute_error: 20.8452 - val_loss: 680.5714 - val_mean_absolute_error: 20.2042\n",
      "Epoch 58/100\n",
      "16/16 [==============================] - 0s 3ms/step - loss: 695.3246 - mean_absolute_error: 20.8080 - val_loss: 680.6035 - val_mean_absolute_error: 20.2046\n",
      "Epoch 59/100\n",
      "16/16 [==============================] - 0s 3ms/step - loss: 694.4335 - mean_absolute_error: 20.8047 - val_loss: 678.9653 - val_mean_absolute_error: 20.1772\n",
      "Epoch 60/100\n",
      "16/16 [==============================] - 0s 3ms/step - loss: 694.0279 - mean_absolute_error: 20.7861 - val_loss: 679.3815 - val_mean_absolute_error: 20.1828\n",
      "Epoch 61/100\n",
      "16/16 [==============================] - 0s 3ms/step - loss: 692.6281 - mean_absolute_error: 20.7995 - val_loss: 676.0793 - val_mean_absolute_error: 20.1003\n",
      "Epoch 62/100\n",
      "16/16 [==============================] - 0s 3ms/step - loss: 692.4261 - mean_absolute_error: 20.7898 - val_loss: 676.3190 - val_mean_absolute_error: 20.1073\n",
      "Epoch 63/100\n",
      "16/16 [==============================] - 0s 3ms/step - loss: 690.8903 - mean_absolute_error: 20.7495 - val_loss: 677.1396 - val_mean_absolute_error: 20.1348\n",
      "Epoch 64/100\n",
      "16/16 [==============================] - 0s 3ms/step - loss: 691.7014 - mean_absolute_error: 20.7558 - val_loss: 674.8087 - val_mean_absolute_error: 20.0765\n",
      "Epoch 65/100\n",
      "16/16 [==============================] - 0s 3ms/step - loss: 689.4446 - mean_absolute_error: 20.7195 - val_loss: 674.4149 - val_mean_absolute_error: 20.0791\n",
      "Epoch 66/100\n",
      "16/16 [==============================] - 0s 3ms/step - loss: 689.8157 - mean_absolute_error: 20.7289 - val_loss: 671.1882 - val_mean_absolute_error: 19.9828\n",
      "Epoch 67/100\n",
      "16/16 [==============================] - 0s 3ms/step - loss: 688.6443 - mean_absolute_error: 20.7191 - val_loss: 675.7468 - val_mean_absolute_error: 20.1419\n",
      "Epoch 68/100\n",
      "16/16 [==============================] - 0s 3ms/step - loss: 687.3264 - mean_absolute_error: 20.6882 - val_loss: 670.4047 - val_mean_absolute_error: 19.9929\n",
      "Epoch 69/100\n",
      "16/16 [==============================] - 0s 3ms/step - loss: 686.0590 - mean_absolute_error: 20.6858 - val_loss: 669.1119 - val_mean_absolute_error: 19.9652\n",
      "Epoch 70/100\n",
      "16/16 [==============================] - 0s 3ms/step - loss: 687.6448 - mean_absolute_error: 20.7229 - val_loss: 668.7878 - val_mean_absolute_error: 19.9684\n",
      "Epoch 71/100\n",
      "16/16 [==============================] - 0s 3ms/step - loss: 686.5502 - mean_absolute_error: 20.6929 - val_loss: 669.8103 - val_mean_absolute_error: 20.0203\n",
      "Epoch 72/100\n",
      "16/16 [==============================] - 0s 3ms/step - loss: 685.4006 - mean_absolute_error: 20.6633 - val_loss: 667.8613 - val_mean_absolute_error: 19.9686\n",
      "Epoch 73/100\n",
      "16/16 [==============================] - 0s 3ms/step - loss: 684.1033 - mean_absolute_error: 20.6699 - val_loss: 664.7300 - val_mean_absolute_error: 19.8677\n",
      "Epoch 74/100\n",
      "16/16 [==============================] - 0s 3ms/step - loss: 686.4623 - mean_absolute_error: 20.6833 - val_loss: 671.2846 - val_mean_absolute_error: 20.0905\n",
      "Epoch 75/100\n",
      "16/16 [==============================] - 0s 3ms/step - loss: 684.4373 - mean_absolute_error: 20.6573 - val_loss: 663.3408 - val_mean_absolute_error: 19.8251\n",
      "Epoch 76/100\n",
      "16/16 [==============================] - 0s 3ms/step - loss: 683.0777 - mean_absolute_error: 20.6510 - val_loss: 664.3613 - val_mean_absolute_error: 19.8780\n",
      "Epoch 77/100\n",
      "16/16 [==============================] - 0s 3ms/step - loss: 683.1897 - mean_absolute_error: 20.6286 - val_loss: 666.0692 - val_mean_absolute_error: 19.9438\n",
      "Epoch 78/100\n",
      "16/16 [==============================] - 0s 3ms/step - loss: 682.9012 - mean_absolute_error: 20.6115 - val_loss: 662.4357 - val_mean_absolute_error: 19.8216\n",
      "Epoch 79/100\n",
      "16/16 [==============================] - 0s 3ms/step - loss: 682.4991 - mean_absolute_error: 20.6322 - val_loss: 662.2303 - val_mean_absolute_error: 19.8494\n",
      "Epoch 80/100\n",
      "16/16 [==============================] - 0s 3ms/step - loss: 681.5455 - mean_absolute_error: 20.5810 - val_loss: 664.4047 - val_mean_absolute_error: 19.9221\n",
      "Epoch 81/100\n",
      "16/16 [==============================] - 0s 3ms/step - loss: 683.3544 - mean_absolute_error: 20.5951 - val_loss: 661.3866 - val_mean_absolute_error: 19.8279\n",
      "Epoch 82/100\n",
      "16/16 [==============================] - 0s 3ms/step - loss: 683.8507 - mean_absolute_error: 20.6928 - val_loss: 659.2701 - val_mean_absolute_error: 19.7465\n",
      "Epoch 83/100\n",
      "16/16 [==============================] - 0s 3ms/step - loss: 681.0430 - mean_absolute_error: 20.5894 - val_loss: 662.5909 - val_mean_absolute_error: 19.8763\n",
      "Epoch 84/100\n",
      "16/16 [==============================] - 0s 3ms/step - loss: 679.3364 - mean_absolute_error: 20.5623 - val_loss: 660.6030 - val_mean_absolute_error: 19.8023\n",
      "Epoch 85/100\n",
      "16/16 [==============================] - 0s 3ms/step - loss: 679.4265 - mean_absolute_error: 20.5604 - val_loss: 659.4336 - val_mean_absolute_error: 19.7833\n",
      "Epoch 86/100\n",
      "16/16 [==============================] - 0s 3ms/step - loss: 678.5977 - mean_absolute_error: 20.5442 - val_loss: 660.1248 - val_mean_absolute_error: 19.8170\n",
      "Epoch 87/100\n",
      "16/16 [==============================] - 0s 3ms/step - loss: 678.6539 - mean_absolute_error: 20.5154 - val_loss: 661.6116 - val_mean_absolute_error: 19.8734\n",
      "Epoch 88/100\n",
      "16/16 [==============================] - 0s 3ms/step - loss: 683.1564 - mean_absolute_error: 20.6285 - val_loss: 659.4326 - val_mean_absolute_error: 19.8042\n",
      "Epoch 89/100\n",
      "16/16 [==============================] - 0s 3ms/step - loss: 678.3633 - mean_absolute_error: 20.5084 - val_loss: 660.2621 - val_mean_absolute_error: 19.8403\n",
      "Epoch 90/100\n",
      "16/16 [==============================] - 0s 3ms/step - loss: 677.1088 - mean_absolute_error: 20.5058 - val_loss: 657.2068 - val_mean_absolute_error: 19.7450\n",
      "Epoch 91/100\n",
      "16/16 [==============================] - 0s 3ms/step - loss: 680.2062 - mean_absolute_error: 20.5638 - val_loss: 658.5481 - val_mean_absolute_error: 19.7958\n",
      "Epoch 92/100\n",
      "16/16 [==============================] - 0s 3ms/step - loss: 677.3358 - mean_absolute_error: 20.4903 - val_loss: 656.4338 - val_mean_absolute_error: 19.7195\n",
      "Epoch 93/100\n",
      "16/16 [==============================] - 0s 3ms/step - loss: 679.8129 - mean_absolute_error: 20.5939 - val_loss: 654.7024 - val_mean_absolute_error: 19.6542\n",
      "Epoch 94/100\n",
      "16/16 [==============================] - 0s 3ms/step - loss: 676.5300 - mean_absolute_error: 20.4966 - val_loss: 659.8244 - val_mean_absolute_error: 19.8377\n",
      "Epoch 95/100\n",
      "16/16 [==============================] - 0s 3ms/step - loss: 677.5894 - mean_absolute_error: 20.4720 - val_loss: 655.7576 - val_mean_absolute_error: 19.7119\n",
      "Epoch 96/100\n"
     ]
    },
    {
     "name": "stdout",
     "output_type": "stream",
     "text": [
      "16/16 [==============================] - 0s 3ms/step - loss: 676.4153 - mean_absolute_error: 20.5117 - val_loss: 654.9984 - val_mean_absolute_error: 19.6949\n",
      "Epoch 97/100\n",
      "16/16 [==============================] - 0s 3ms/step - loss: 677.6667 - mean_absolute_error: 20.5256 - val_loss: 657.2811 - val_mean_absolute_error: 19.7592\n",
      "Epoch 98/100\n",
      "16/16 [==============================] - 0s 3ms/step - loss: 678.2469 - mean_absolute_error: 20.4948 - val_loss: 655.7926 - val_mean_absolute_error: 19.7232\n",
      "Epoch 99/100\n",
      "16/16 [==============================] - 0s 3ms/step - loss: 676.0901 - mean_absolute_error: 20.5140 - val_loss: 653.4501 - val_mean_absolute_error: 19.6311\n",
      "Epoch 100/100\n",
      "16/16 [==============================] - 0s 3ms/step - loss: 676.2497 - mean_absolute_error: 20.4972 - val_loss: 657.6318 - val_mean_absolute_error: 19.7745\n"
     ]
    },
    {
     "data": {
      "text/plain": [
       "<tensorflow.python.keras.callbacks.History at 0x275949ccb80>"
      ]
     },
     "execution_count": 10,
     "metadata": {},
     "output_type": "execute_result"
    }
   ],
   "source": [
    "from tensorflow.keras import layers\n",
    "from tensorflow.keras.models import Sequential\n",
    "\n",
    "from tensorflow.keras.optimizers import Adam\n",
    "\n",
    "model_1 = Sequential([layers.Input((5,)),\n",
    "                      layers.Dense(1)])\n",
    "\n",
    "model_1.compile(loss='mse', optimizer=Adam(learning_rate=0.01), metrics=['mean_absolute_error'])\n",
    "\n",
    "model_1.fit(x=X_train, y=y_train, validation_data=(X_val, y_val), epochs=100)"
   ]
  },
  {
   "cell_type": "code",
   "execution_count": 11,
   "metadata": {
    "colab": {
     "base_uri": "https://localhost:8080/"
    },
    "id": "o5RauV8EfwGE",
    "outputId": "d660a93f-3e77-4765-9b45-781362a1eaea"
   },
   "outputs": [
    {
     "name": "stdout",
     "output_type": "stream",
     "text": [
      "Model: \"sequential\"\n",
      "_________________________________________________________________\n",
      "Layer (type)                 Output Shape              Param #   \n",
      "=================================================================\n",
      "dense (Dense)                (None, 1)                 6         \n",
      "=================================================================\n",
      "Total params: 6\n",
      "Trainable params: 6\n",
      "Non-trainable params: 0\n",
      "_________________________________________________________________\n"
     ]
    }
   ],
   "source": [
    "model_1.summary()"
   ]
  },
  {
   "cell_type": "code",
   "execution_count": 12,
   "metadata": {
    "colab": {
     "base_uri": "https://localhost:8080/"
    },
    "id": "HDxov9DKfpl9",
    "outputId": "233188e3-e5f4-462e-c93a-7cd1204b710b"
   },
   "outputs": [
    {
     "name": "stdout",
     "output_type": "stream",
     "text": [
      "WARNING:tensorflow:Please add `keras.layers.InputLayer` instead of `keras.Input` to Sequential model. `keras.Input` is intended to be used by Functional model.\n",
      "Epoch 1/100\n",
      "16/16 [==============================] - 1s 13ms/step - loss: 1804.4667 - mean_absolute_error: 32.9691 - val_loss: 873.3178 - val_mean_absolute_error: 23.5924\n",
      "Epoch 2/100\n",
      "16/16 [==============================] - 0s 3ms/step - loss: 872.4094 - mean_absolute_error: 23.4485 - val_loss: 789.5596 - val_mean_absolute_error: 22.4027\n",
      "Epoch 3/100\n",
      "16/16 [==============================] - 0s 3ms/step - loss: 755.9028 - mean_absolute_error: 21.5593 - val_loss: 660.4099 - val_mean_absolute_error: 19.8806\n",
      "Epoch 4/100\n",
      "16/16 [==============================] - 0s 3ms/step - loss: 729.0132 - mean_absolute_error: 21.3384 - val_loss: 669.4991 - val_mean_absolute_error: 19.9627\n",
      "Epoch 5/100\n",
      "16/16 [==============================] - 0s 3ms/step - loss: 700.3065 - mean_absolute_error: 20.7851 - val_loss: 661.9565 - val_mean_absolute_error: 19.6906\n",
      "Epoch 6/100\n",
      "16/16 [==============================] - 0s 3ms/step - loss: 708.8547 - mean_absolute_error: 20.9594 - val_loss: 779.0099 - val_mean_absolute_error: 22.1410\n",
      "Epoch 7/100\n",
      "16/16 [==============================] - 0s 3ms/step - loss: 761.5090 - mean_absolute_error: 21.6882 - val_loss: 673.5361 - val_mean_absolute_error: 19.9950\n",
      "Epoch 8/100\n",
      "16/16 [==============================] - 0s 3ms/step - loss: 699.6620 - mean_absolute_error: 20.9709 - val_loss: 667.0248 - val_mean_absolute_error: 20.0271\n",
      "Epoch 9/100\n",
      "16/16 [==============================] - 0s 3ms/step - loss: 704.1229 - mean_absolute_error: 20.9443 - val_loss: 652.5446 - val_mean_absolute_error: 19.5683\n",
      "Epoch 10/100\n",
      "16/16 [==============================] - 0s 3ms/step - loss: 721.8016 - mean_absolute_error: 21.2799 - val_loss: 703.3768 - val_mean_absolute_error: 20.6911\n",
      "Epoch 11/100\n",
      "16/16 [==============================] - 0s 3ms/step - loss: 712.8486 - mean_absolute_error: 20.6802 - val_loss: 661.3497 - val_mean_absolute_error: 20.0934\n",
      "Epoch 12/100\n",
      "16/16 [==============================] - 0s 3ms/step - loss: 680.2641 - mean_absolute_error: 20.4201 - val_loss: 845.3706 - val_mean_absolute_error: 23.2340\n",
      "Epoch 13/100\n",
      "16/16 [==============================] - 0s 3ms/step - loss: 752.4621 - mean_absolute_error: 21.3419 - val_loss: 644.0569 - val_mean_absolute_error: 19.7369\n",
      "Epoch 14/100\n",
      "16/16 [==============================] - 0s 3ms/step - loss: 715.2764 - mean_absolute_error: 20.9121 - val_loss: 659.3691 - val_mean_absolute_error: 19.7227\n",
      "Epoch 15/100\n",
      "16/16 [==============================] - 0s 3ms/step - loss: 714.5211 - mean_absolute_error: 20.8303 - val_loss: 675.6414 - val_mean_absolute_error: 20.1533\n",
      "Epoch 16/100\n",
      "16/16 [==============================] - 0s 3ms/step - loss: 690.6142 - mean_absolute_error: 20.4819 - val_loss: 685.8972 - val_mean_absolute_error: 20.0974\n",
      "Epoch 17/100\n",
      "16/16 [==============================] - 0s 3ms/step - loss: 724.0256 - mean_absolute_error: 21.1654 - val_loss: 682.3556 - val_mean_absolute_error: 20.3554\n",
      "Epoch 18/100\n",
      "16/16 [==============================] - 0s 3ms/step - loss: 690.0931 - mean_absolute_error: 20.6199 - val_loss: 641.6103 - val_mean_absolute_error: 19.4141\n",
      "Epoch 19/100\n",
      "16/16 [==============================] - 0s 3ms/step - loss: 688.9276 - mean_absolute_error: 20.6663 - val_loss: 642.9675 - val_mean_absolute_error: 19.4498\n",
      "Epoch 20/100\n",
      "16/16 [==============================] - 0s 3ms/step - loss: 711.6496 - mean_absolute_error: 20.8605 - val_loss: 633.0959 - val_mean_absolute_error: 19.3108\n",
      "Epoch 21/100\n",
      "16/16 [==============================] - 0s 3ms/step - loss: 731.8644 - mean_absolute_error: 21.1998 - val_loss: 657.1142 - val_mean_absolute_error: 19.8284\n",
      "Epoch 22/100\n",
      "16/16 [==============================] - 0s 3ms/step - loss: 712.0843 - mean_absolute_error: 21.0357 - val_loss: 642.1777 - val_mean_absolute_error: 19.4499\n",
      "Epoch 23/100\n",
      "16/16 [==============================] - 0s 3ms/step - loss: 705.2805 - mean_absolute_error: 20.6949 - val_loss: 708.5555 - val_mean_absolute_error: 20.7970\n",
      "Epoch 24/100\n",
      "16/16 [==============================] - 0s 3ms/step - loss: 688.2033 - mean_absolute_error: 20.4158 - val_loss: 655.1400 - val_mean_absolute_error: 19.8199\n",
      "Epoch 25/100\n",
      "16/16 [==============================] - 0s 3ms/step - loss: 753.0349 - mean_absolute_error: 21.5277 - val_loss: 666.1295 - val_mean_absolute_error: 19.7171\n",
      "Epoch 26/100\n",
      "16/16 [==============================] - 0s 3ms/step - loss: 768.8290 - mean_absolute_error: 21.5183 - val_loss: 672.2554 - val_mean_absolute_error: 19.8540\n",
      "Epoch 27/100\n",
      "16/16 [==============================] - 0s 3ms/step - loss: 678.4101 - mean_absolute_error: 20.3936 - val_loss: 685.3810 - val_mean_absolute_error: 20.0869\n",
      "Epoch 28/100\n",
      "16/16 [==============================] - 0s 3ms/step - loss: 698.7242 - mean_absolute_error: 20.9163 - val_loss: 625.1293 - val_mean_absolute_error: 19.1925\n",
      "Epoch 29/100\n",
      "16/16 [==============================] - 0s 3ms/step - loss: 668.6417 - mean_absolute_error: 20.2486 - val_loss: 646.5005 - val_mean_absolute_error: 19.5659\n",
      "Epoch 30/100\n",
      "16/16 [==============================] - 0s 3ms/step - loss: 685.9501 - mean_absolute_error: 20.5633 - val_loss: 652.9733 - val_mean_absolute_error: 19.5317\n",
      "Epoch 31/100\n",
      "16/16 [==============================] - 0s 3ms/step - loss: 666.1955 - mean_absolute_error: 20.4099 - val_loss: 627.3904 - val_mean_absolute_error: 19.2276\n",
      "Epoch 32/100\n",
      "16/16 [==============================] - 0s 3ms/step - loss: 664.2644 - mean_absolute_error: 20.0144 - val_loss: 637.3155 - val_mean_absolute_error: 19.2949\n",
      "Epoch 33/100\n",
      "16/16 [==============================] - 0s 3ms/step - loss: 694.5657 - mean_absolute_error: 20.7348 - val_loss: 635.4543 - val_mean_absolute_error: 19.4078\n",
      "Epoch 34/100\n",
      "16/16 [==============================] - 0s 3ms/step - loss: 689.6158 - mean_absolute_error: 20.5677 - val_loss: 623.8297 - val_mean_absolute_error: 19.1463\n",
      "Epoch 35/100\n",
      "16/16 [==============================] - 0s 3ms/step - loss: 662.8615 - mean_absolute_error: 20.1946 - val_loss: 634.8681 - val_mean_absolute_error: 19.1980\n",
      "Epoch 36/100\n",
      "16/16 [==============================] - 0s 3ms/step - loss: 675.3293 - mean_absolute_error: 20.4533 - val_loss: 696.0303 - val_mean_absolute_error: 20.6008\n",
      "Epoch 37/100\n",
      "16/16 [==============================] - 0s 3ms/step - loss: 680.1246 - mean_absolute_error: 20.5180 - val_loss: 624.3939 - val_mean_absolute_error: 19.1508\n",
      "Epoch 38/100\n",
      "16/16 [==============================] - 0s 3ms/step - loss: 662.6417 - mean_absolute_error: 20.2442 - val_loss: 626.0050 - val_mean_absolute_error: 19.1029\n",
      "Epoch 39/100\n",
      "16/16 [==============================] - 0s 3ms/step - loss: 663.0578 - mean_absolute_error: 20.1864 - val_loss: 616.6344 - val_mean_absolute_error: 18.9589\n",
      "Epoch 40/100\n",
      "16/16 [==============================] - 0s 3ms/step - loss: 659.4880 - mean_absolute_error: 20.0637 - val_loss: 636.6465 - val_mean_absolute_error: 19.1329\n",
      "Epoch 41/100\n",
      "16/16 [==============================] - 0s 3ms/step - loss: 652.9090 - mean_absolute_error: 20.0991 - val_loss: 634.0038 - val_mean_absolute_error: 19.4197\n",
      "Epoch 42/100\n",
      "16/16 [==============================] - 0s 3ms/step - loss: 657.4677 - mean_absolute_error: 20.2905 - val_loss: 658.0570 - val_mean_absolute_error: 19.7213\n",
      "Epoch 43/100\n",
      "16/16 [==============================] - 0s 3ms/step - loss: 653.1360 - mean_absolute_error: 19.9967 - val_loss: 609.8287 - val_mean_absolute_error: 18.8990\n",
      "Epoch 44/100\n",
      "16/16 [==============================] - 0s 3ms/step - loss: 642.3683 - mean_absolute_error: 20.0047 - val_loss: 649.8193 - val_mean_absolute_error: 19.6403\n",
      "Epoch 45/100\n",
      "16/16 [==============================] - 0s 3ms/step - loss: 675.0420 - mean_absolute_error: 20.4860 - val_loss: 694.0335 - val_mean_absolute_error: 20.4305\n",
      "Epoch 46/100\n",
      "16/16 [==============================] - 0s 3ms/step - loss: 686.0911 - mean_absolute_error: 20.6090 - val_loss: 637.3063 - val_mean_absolute_error: 19.2093\n",
      "Epoch 47/100\n",
      "16/16 [==============================] - 0s 3ms/step - loss: 637.7791 - mean_absolute_error: 19.5782 - val_loss: 674.9338 - val_mean_absolute_error: 19.7975\n",
      "Epoch 48/100\n"
     ]
    },
    {
     "name": "stdout",
     "output_type": "stream",
     "text": [
      "16/16 [==============================] - 0s 3ms/step - loss: 638.5257 - mean_absolute_error: 19.8254 - val_loss: 625.5809 - val_mean_absolute_error: 19.1499\n",
      "Epoch 49/100\n",
      "16/16 [==============================] - 0s 3ms/step - loss: 651.4522 - mean_absolute_error: 20.0089 - val_loss: 624.8377 - val_mean_absolute_error: 19.2614\n",
      "Epoch 50/100\n",
      "16/16 [==============================] - 0s 3ms/step - loss: 635.1243 - mean_absolute_error: 19.9074 - val_loss: 613.8378 - val_mean_absolute_error: 18.7806\n",
      "Epoch 51/100\n",
      "16/16 [==============================] - 0s 3ms/step - loss: 693.8123 - mean_absolute_error: 20.5746 - val_loss: 758.1925 - val_mean_absolute_error: 21.6547\n",
      "Epoch 52/100\n",
      "16/16 [==============================] - 0s 3ms/step - loss: 683.5240 - mean_absolute_error: 20.3540 - val_loss: 609.7899 - val_mean_absolute_error: 18.7466\n",
      "Epoch 53/100\n",
      "16/16 [==============================] - 0s 3ms/step - loss: 761.1650 - mean_absolute_error: 21.6169 - val_loss: 607.5168 - val_mean_absolute_error: 18.7278\n",
      "Epoch 54/100\n",
      "16/16 [==============================] - 0s 3ms/step - loss: 746.5453 - mean_absolute_error: 21.6068 - val_loss: 781.8556 - val_mean_absolute_error: 22.1989\n",
      "Epoch 55/100\n",
      "16/16 [==============================] - 0s 3ms/step - loss: 675.1567 - mean_absolute_error: 20.3840 - val_loss: 634.5563 - val_mean_absolute_error: 19.1364\n",
      "Epoch 56/100\n",
      "16/16 [==============================] - 0s 3ms/step - loss: 688.8278 - mean_absolute_error: 20.7518 - val_loss: 617.8983 - val_mean_absolute_error: 18.9961\n",
      "Epoch 57/100\n",
      "16/16 [==============================] - 0s 3ms/step - loss: 653.7726 - mean_absolute_error: 20.1143 - val_loss: 640.0529 - val_mean_absolute_error: 19.4256\n",
      "Epoch 58/100\n",
      "16/16 [==============================] - 0s 3ms/step - loss: 635.6747 - mean_absolute_error: 19.8530 - val_loss: 601.7169 - val_mean_absolute_error: 18.7180\n",
      "Epoch 59/100\n",
      "16/16 [==============================] - 0s 3ms/step - loss: 641.0556 - mean_absolute_error: 19.9285 - val_loss: 672.1237 - val_mean_absolute_error: 20.0460\n",
      "Epoch 60/100\n",
      "16/16 [==============================] - 0s 3ms/step - loss: 659.9922 - mean_absolute_error: 20.1103 - val_loss: 660.0931 - val_mean_absolute_error: 19.9006\n",
      "Epoch 61/100\n",
      "16/16 [==============================] - 0s 3ms/step - loss: 664.0630 - mean_absolute_error: 20.0880 - val_loss: 603.2779 - val_mean_absolute_error: 18.6945\n",
      "Epoch 62/100\n",
      "16/16 [==============================] - 0s 3ms/step - loss: 635.3465 - mean_absolute_error: 19.9935 - val_loss: 603.4565 - val_mean_absolute_error: 18.5801\n",
      "Epoch 63/100\n",
      "16/16 [==============================] - 0s 3ms/step - loss: 648.5560 - mean_absolute_error: 20.1036 - val_loss: 600.3250 - val_mean_absolute_error: 18.5853\n",
      "Epoch 64/100\n",
      "16/16 [==============================] - 0s 3ms/step - loss: 619.5961 - mean_absolute_error: 19.5856 - val_loss: 626.4707 - val_mean_absolute_error: 19.2669\n",
      "Epoch 65/100\n",
      "16/16 [==============================] - 0s 3ms/step - loss: 673.4737 - mean_absolute_error: 20.7221 - val_loss: 595.8444 - val_mean_absolute_error: 18.5784\n",
      "Epoch 66/100\n",
      "16/16 [==============================] - 0s 3ms/step - loss: 627.0533 - mean_absolute_error: 19.8542 - val_loss: 609.3798 - val_mean_absolute_error: 18.7162\n",
      "Epoch 67/100\n",
      "16/16 [==============================] - 0s 3ms/step - loss: 646.0317 - mean_absolute_error: 20.0531 - val_loss: 624.5731 - val_mean_absolute_error: 19.0805\n",
      "Epoch 68/100\n",
      "16/16 [==============================] - 0s 3ms/step - loss: 656.5076 - mean_absolute_error: 20.2513 - val_loss: 600.1732 - val_mean_absolute_error: 18.5982\n",
      "Epoch 69/100\n",
      "16/16 [==============================] - 0s 3ms/step - loss: 638.2234 - mean_absolute_error: 20.0855 - val_loss: 650.7057 - val_mean_absolute_error: 19.5931\n",
      "Epoch 70/100\n",
      "16/16 [==============================] - 0s 3ms/step - loss: 657.5265 - mean_absolute_error: 19.9545 - val_loss: 607.7115 - val_mean_absolute_error: 18.9184\n",
      "Epoch 71/100\n",
      "16/16 [==============================] - 0s 3ms/step - loss: 638.9243 - mean_absolute_error: 19.9651 - val_loss: 595.9709 - val_mean_absolute_error: 18.4871\n",
      "Epoch 72/100\n",
      "16/16 [==============================] - 0s 3ms/step - loss: 635.7133 - mean_absolute_error: 19.8900 - val_loss: 594.6188 - val_mean_absolute_error: 18.4601\n",
      "Epoch 73/100\n",
      "16/16 [==============================] - 0s 3ms/step - loss: 644.7650 - mean_absolute_error: 19.8195 - val_loss: 616.0911 - val_mean_absolute_error: 18.9484\n",
      "Epoch 74/100\n",
      "16/16 [==============================] - 0s 3ms/step - loss: 629.6775 - mean_absolute_error: 19.7630 - val_loss: 626.1334 - val_mean_absolute_error: 19.0183\n",
      "Epoch 75/100\n",
      "16/16 [==============================] - 0s 3ms/step - loss: 639.4263 - mean_absolute_error: 19.9427 - val_loss: 597.9864 - val_mean_absolute_error: 18.4694\n",
      "Epoch 76/100\n",
      "16/16 [==============================] - 0s 3ms/step - loss: 621.6369 - mean_absolute_error: 19.6964 - val_loss: 611.8101 - val_mean_absolute_error: 18.9569\n",
      "Epoch 77/100\n",
      "16/16 [==============================] - 0s 3ms/step - loss: 628.8331 - mean_absolute_error: 19.8770 - val_loss: 605.1026 - val_mean_absolute_error: 18.5473\n",
      "Epoch 78/100\n",
      "16/16 [==============================] - 0s 3ms/step - loss: 646.6598 - mean_absolute_error: 20.0944 - val_loss: 592.4774 - val_mean_absolute_error: 18.3902\n",
      "Epoch 79/100\n",
      "16/16 [==============================] - 0s 3ms/step - loss: 633.0098 - mean_absolute_error: 20.0315 - val_loss: 589.4226 - val_mean_absolute_error: 18.3375\n",
      "Epoch 80/100\n",
      "16/16 [==============================] - 0s 3ms/step - loss: 622.6094 - mean_absolute_error: 19.8266 - val_loss: 589.3953 - val_mean_absolute_error: 18.3861\n",
      "Epoch 81/100\n",
      "16/16 [==============================] - 0s 3ms/step - loss: 620.0488 - mean_absolute_error: 19.6084 - val_loss: 643.7812 - val_mean_absolute_error: 19.3982\n",
      "Epoch 82/100\n",
      "16/16 [==============================] - 0s 3ms/step - loss: 632.8370 - mean_absolute_error: 19.9657 - val_loss: 613.8322 - val_mean_absolute_error: 18.7109\n",
      "Epoch 83/100\n",
      "16/16 [==============================] - 0s 3ms/step - loss: 668.0422 - mean_absolute_error: 20.1948 - val_loss: 681.7982 - val_mean_absolute_error: 20.1649\n",
      "Epoch 84/100\n",
      "16/16 [==============================] - 0s 3ms/step - loss: 638.5411 - mean_absolute_error: 20.0826 - val_loss: 584.8243 - val_mean_absolute_error: 18.2470\n",
      "Epoch 85/100\n",
      "16/16 [==============================] - 0s 3ms/step - loss: 614.1465 - mean_absolute_error: 19.5917 - val_loss: 628.9895 - val_mean_absolute_error: 19.2509\n",
      "Epoch 86/100\n",
      "16/16 [==============================] - 0s 3ms/step - loss: 655.1708 - mean_absolute_error: 20.1025 - val_loss: 596.9243 - val_mean_absolute_error: 18.3771\n",
      "Epoch 87/100\n",
      "16/16 [==============================] - 0s 3ms/step - loss: 630.4442 - mean_absolute_error: 19.9160 - val_loss: 588.8818 - val_mean_absolute_error: 18.3667\n",
      "Epoch 88/100\n",
      "16/16 [==============================] - 0s 3ms/step - loss: 611.8286 - mean_absolute_error: 19.4346 - val_loss: 595.0875 - val_mean_absolute_error: 18.3232\n",
      "Epoch 89/100\n",
      "16/16 [==============================] - 0s 3ms/step - loss: 625.1299 - mean_absolute_error: 19.7350 - val_loss: 587.3957 - val_mean_absolute_error: 18.2383\n",
      "Epoch 90/100\n",
      "16/16 [==============================] - 0s 3ms/step - loss: 655.8558 - mean_absolute_error: 20.1340 - val_loss: 681.3048 - val_mean_absolute_error: 19.8124\n",
      "Epoch 91/100\n",
      "16/16 [==============================] - 0s 3ms/step - loss: 637.6953 - mean_absolute_error: 20.0011 - val_loss: 630.2242 - val_mean_absolute_error: 19.2109\n",
      "Epoch 92/100\n",
      "16/16 [==============================] - 0s 3ms/step - loss: 631.2794 - mean_absolute_error: 19.7638 - val_loss: 612.6613 - val_mean_absolute_error: 18.6901\n",
      "Epoch 93/100\n",
      "16/16 [==============================] - 0s 3ms/step - loss: 654.9024 - mean_absolute_error: 20.1006 - val_loss: 584.3646 - val_mean_absolute_error: 18.3891\n",
      "Epoch 94/100\n",
      "16/16 [==============================] - 0s 3ms/step - loss: 622.4929 - mean_absolute_error: 19.7150 - val_loss: 612.5986 - val_mean_absolute_error: 18.8474\n",
      "Epoch 95/100\n",
      "16/16 [==============================] - 0s 3ms/step - loss: 634.4874 - mean_absolute_error: 20.0352 - val_loss: 602.3814 - val_mean_absolute_error: 18.4116\n",
      "Epoch 96/100\n"
     ]
    },
    {
     "name": "stdout",
     "output_type": "stream",
     "text": [
      "16/16 [==============================] - 0s 3ms/step - loss: 628.4595 - mean_absolute_error: 19.6863 - val_loss: 603.5706 - val_mean_absolute_error: 18.7723\n",
      "Epoch 97/100\n",
      "16/16 [==============================] - 0s 3ms/step - loss: 617.9617 - mean_absolute_error: 19.9073 - val_loss: 639.6499 - val_mean_absolute_error: 19.3174\n",
      "Epoch 98/100\n",
      "16/16 [==============================] - 0s 3ms/step - loss: 669.2114 - mean_absolute_error: 20.3598 - val_loss: 604.1297 - val_mean_absolute_error: 18.6911\n",
      "Epoch 99/100\n",
      "16/16 [==============================] - 0s 3ms/step - loss: 687.1537 - mean_absolute_error: 20.6690 - val_loss: 582.2073 - val_mean_absolute_error: 18.2519\n",
      "Epoch 100/100\n",
      "16/16 [==============================] - 0s 3ms/step - loss: 613.8799 - mean_absolute_error: 19.4397 - val_loss: 592.9610 - val_mean_absolute_error: 18.4323\n"
     ]
    },
    {
     "data": {
      "text/plain": [
       "<tensorflow.python.keras.callbacks.History at 0x27595e57400>"
      ]
     },
     "execution_count": 12,
     "metadata": {},
     "output_type": "execute_result"
    }
   ],
   "source": [
    "from tensorflow.keras import layers\n",
    "from tensorflow.keras.models import Sequential\n",
    "\n",
    "from tensorflow.keras.optimizers import Adam\n",
    "\n",
    "model_2 = Sequential([layers.Input((5,)),\n",
    "                      layers.Dense(32),\n",
    "                      layers.Dense(32),\n",
    "                      layers.Dense(1)])\n",
    "\n",
    "model_2.compile(loss='mse', optimizer=Adam(learning_rate=0.01), metrics=['mean_absolute_error'])\n",
    "\n",
    "model_2.fit(x=X_train, y=y_train, validation_data=(X_val, y_val), epochs=100)"
   ]
  },
  {
   "cell_type": "code",
   "execution_count": 13,
   "metadata": {
    "colab": {
     "base_uri": "https://localhost:8080/"
    },
    "id": "POn2YZB_f_IN",
    "outputId": "2422855c-88d2-467a-9ad2-672ce6e64561"
   },
   "outputs": [
    {
     "name": "stdout",
     "output_type": "stream",
     "text": [
      "Model: \"sequential_1\"\n",
      "_________________________________________________________________\n",
      "Layer (type)                 Output Shape              Param #   \n",
      "=================================================================\n",
      "dense_1 (Dense)              (None, 32)                192       \n",
      "_________________________________________________________________\n",
      "dense_2 (Dense)              (None, 32)                1056      \n",
      "_________________________________________________________________\n",
      "dense_3 (Dense)              (None, 1)                 33        \n",
      "=================================================================\n",
      "Total params: 1,281\n",
      "Trainable params: 1,281\n",
      "Non-trainable params: 0\n",
      "_________________________________________________________________\n"
     ]
    }
   ],
   "source": [
    "model_2.summary()"
   ]
  },
  {
   "cell_type": "markdown",
   "metadata": {
    "id": "z24gpBY_Ss78"
   },
   "source": [
    "### 6. Evaluate The Chosen Model"
   ]
  },
  {
   "cell_type": "code",
   "execution_count": 14,
   "metadata": {
    "colab": {
     "base_uri": "https://localhost:8080/"
    },
    "id": "48vy1XbeSTbx",
    "outputId": "ea66368f-ad23-412c-9d98-69d5e02eacab"
   },
   "outputs": [
    {
     "data": {
      "text/plain": [
       "18.388421887559318"
      ]
     },
     "execution_count": 14,
     "metadata": {},
     "output_type": "execute_result"
    }
   ],
   "source": [
    "mean_absolute_error(y_test, linear_model.predict(X_test))"
   ]
  },
  {
   "cell_type": "code",
   "execution_count": null,
   "metadata": {
    "id": "mnzcmKjVgJkM"
   },
   "outputs": [],
   "source": []
  }
 ],
 "metadata": {
  "colab": {
   "collapsed_sections": [],
   "name": "Copy of Pokemon Speed Predictor.ipynb",
   "provenance": []
  },
  "kernelspec": {
   "display_name": "Python 3",
   "language": "python",
   "name": "python3"
  },
  "language_info": {
   "codemirror_mode": {
    "name": "ipython",
    "version": 3
   },
   "file_extension": ".py",
   "mimetype": "text/x-python",
   "name": "python",
   "nbconvert_exporter": "python",
   "pygments_lexer": "ipython3",
   "version": "3.8.8"
  }
 },
 "nbformat": 4,
 "nbformat_minor": 1
}
